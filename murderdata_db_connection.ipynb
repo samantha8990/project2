{
 "metadata": {
  "language_info": {
   "codemirror_mode": {
    "name": "ipython",
    "version": 3
   },
   "file_extension": ".py",
   "mimetype": "text/x-python",
   "name": "python",
   "nbconvert_exporter": "python",
   "pygments_lexer": "ipython3",
   "version": "3.7.9"
  },
  "orig_nbformat": 4,
  "kernelspec": {
   "name": "python3",
   "display_name": "Python 3.7.9 64-bit ('PythonData': conda)"
  },
  "interpreter": {
   "hash": "03727d14a4c51d73d0b3641fd732c75024a55a3c0638ac3f8d6d33a3e1ad04f1"
  }
 },
 "nbformat": 4,
 "nbformat_minor": 2,
 "cells": [
  {
   "cell_type": "code",
   "execution_count": 16,
   "metadata": {},
   "outputs": [
    {
     "output_type": "stream",
     "name": "stdout",
     "text": [
      "Opened database successfully\n"
     ]
    }
   ],
   "source": [
    "import psycopg2\n",
    "import pandas as pd\n",
    "\n",
    "conn = psycopg2.connect(database=\"muder_data\", user = \"postgres\", password = \"codingastroqueen17\", host = \"localhost\", port = \"5433\")\n",
    "\n",
    "print(\"Opened database successfully\")"
   ]
  },
  {
   "cell_type": "code",
   "execution_count": 19,
   "metadata": {},
   "outputs": [
    {
     "output_type": "execute_result",
     "data": {
      "text/plain": [
       "         State       CNTYFIPS Solved  Year      Month Incident  \\\n",
       "0       Alaska  Anchorage, AK    Yes  2016    January        1   \n",
       "1       Alaska  Anchorage, AK    Yes  2016    January        1   \n",
       "2       Alaska  Anchorage, AK    Yes  2016    January        2   \n",
       "3       Alaska  Anchorage, AK    Yes  2016    January        3   \n",
       "4       Alaska  Anchorage, AK     No  2016    January        4   \n",
       "...        ...            ...    ...   ...        ...      ...   \n",
       "69523  Wyoming      Uinta, WY     No  2016  September        2   \n",
       "69524  Wyoming    Fremont, WY    Yes  2017       July        1   \n",
       "69525  Wyoming    Fremont, WY    Yes  2017   November        1   \n",
       "69526  Wyoming    Fremont, WY     No  2018     August        1   \n",
       "69527  Wyoming    Fremont, WY    Yes  2019     August        1   \n",
       "\n",
       "                                    Homicide  VicAge  \\\n",
       "0      Murder and non-negligent manslaughter      40   \n",
       "1      Murder and non-negligent manslaughter      18   \n",
       "2      Murder and non-negligent manslaughter      49   \n",
       "3      Murder and non-negligent manslaughter      32   \n",
       "4      Murder and non-negligent manslaughter      20   \n",
       "...                                      ...     ...   \n",
       "69523  Murder and non-negligent manslaughter      52   \n",
       "69524  Murder and non-negligent manslaughter      43   \n",
       "69525  Murder and non-negligent manslaughter      36   \n",
       "69526  Murder and non-negligent manslaughter      29   \n",
       "69527  Murder and non-negligent manslaughter      29   \n",
       "\n",
       "                                 VicRace  OffAge   OffSex  \\\n",
       "0                                  White      15     Male   \n",
       "1                                  White      15     Male   \n",
       "2      American Indian or Alaskan Native      34     Male   \n",
       "3      American Indian or Alaskan Native      33     Male   \n",
       "4                                  Black     999  Unknown   \n",
       "...                                  ...     ...      ...   \n",
       "69523                              White     999  Unknown   \n",
       "69524  American Indian or Alaskan Native      38     Male   \n",
       "69525  American Indian or Alaskan Native      39     Male   \n",
       "69526  American Indian or Alaskan Native     999  Unknown   \n",
       "69527  American Indian or Alaskan Native      30     Male   \n",
       "\n",
       "                                 Weapon                 Relationship  \\\n",
       "0              Firearm, type not stated                       Sister   \n",
       "1              Firearm, type not stated                       Sister   \n",
       "2              Firearm, type not stated                     Stranger   \n",
       "3                 Other or type unknown                         Wife   \n",
       "4              Firearm, type not stated  Relationship not determined   \n",
       "...                                 ...                          ...   \n",
       "69523       Knife or cutting instrument  Relationship not determined   \n",
       "69524       Knife or cutting instrument                       Friend   \n",
       "69525  Blunt object - hammer, club, etc                 Acquaintance   \n",
       "69526                           Shotgun      Other - known to victim   \n",
       "69527          Firearm, type not stated                 Acquaintance   \n",
       "\n",
       "       VicCount  OffCount state   latitude   longitude     name  \n",
       "0             1         0    AK  63.588753 -154.493062   Alaska  \n",
       "1             1         0    AK  63.588753 -154.493062   Alaska  \n",
       "2             0         1    AK  63.588753 -154.493062   Alaska  \n",
       "3             0         0    AK  63.588753 -154.493062   Alaska  \n",
       "4             1         0    AK  63.588753 -154.493062   Alaska  \n",
       "...         ...       ...   ...        ...         ...      ...  \n",
       "69523         0         0    WY  43.075968 -107.290284  Wyoming  \n",
       "69524         0         0    WY  43.075968 -107.290284  Wyoming  \n",
       "69525         0         0    WY  43.075968 -107.290284  Wyoming  \n",
       "69526         0         0    WY  43.075968 -107.290284  Wyoming  \n",
       "69527         0         0    WY  43.075968 -107.290284  Wyoming  \n",
       "\n",
       "[69528 rows x 19 columns]"
      ],
      "text/html": "<div>\n<style scoped>\n    .dataframe tbody tr th:only-of-type {\n        vertical-align: middle;\n    }\n\n    .dataframe tbody tr th {\n        vertical-align: top;\n    }\n\n    .dataframe thead th {\n        text-align: right;\n    }\n</style>\n<table border=\"1\" class=\"dataframe\">\n  <thead>\n    <tr style=\"text-align: right;\">\n      <th></th>\n      <th>State</th>\n      <th>CNTYFIPS</th>\n      <th>Solved</th>\n      <th>Year</th>\n      <th>Month</th>\n      <th>Incident</th>\n      <th>Homicide</th>\n      <th>VicAge</th>\n      <th>VicRace</th>\n      <th>OffAge</th>\n      <th>OffSex</th>\n      <th>Weapon</th>\n      <th>Relationship</th>\n      <th>VicCount</th>\n      <th>OffCount</th>\n      <th>state</th>\n      <th>latitude</th>\n      <th>longitude</th>\n      <th>name</th>\n    </tr>\n  </thead>\n  <tbody>\n    <tr>\n      <th>0</th>\n      <td>Alaska</td>\n      <td>Anchorage, AK</td>\n      <td>Yes</td>\n      <td>2016</td>\n      <td>January</td>\n      <td>1</td>\n      <td>Murder and non-negligent manslaughter</td>\n      <td>40</td>\n      <td>White</td>\n      <td>15</td>\n      <td>Male</td>\n      <td>Firearm, type not stated</td>\n      <td>Sister</td>\n      <td>1</td>\n      <td>0</td>\n      <td>AK</td>\n      <td>63.588753</td>\n      <td>-154.493062</td>\n      <td>Alaska</td>\n    </tr>\n    <tr>\n      <th>1</th>\n      <td>Alaska</td>\n      <td>Anchorage, AK</td>\n      <td>Yes</td>\n      <td>2016</td>\n      <td>January</td>\n      <td>1</td>\n      <td>Murder and non-negligent manslaughter</td>\n      <td>18</td>\n      <td>White</td>\n      <td>15</td>\n      <td>Male</td>\n      <td>Firearm, type not stated</td>\n      <td>Sister</td>\n      <td>1</td>\n      <td>0</td>\n      <td>AK</td>\n      <td>63.588753</td>\n      <td>-154.493062</td>\n      <td>Alaska</td>\n    </tr>\n    <tr>\n      <th>2</th>\n      <td>Alaska</td>\n      <td>Anchorage, AK</td>\n      <td>Yes</td>\n      <td>2016</td>\n      <td>January</td>\n      <td>2</td>\n      <td>Murder and non-negligent manslaughter</td>\n      <td>49</td>\n      <td>American Indian or Alaskan Native</td>\n      <td>34</td>\n      <td>Male</td>\n      <td>Firearm, type not stated</td>\n      <td>Stranger</td>\n      <td>0</td>\n      <td>1</td>\n      <td>AK</td>\n      <td>63.588753</td>\n      <td>-154.493062</td>\n      <td>Alaska</td>\n    </tr>\n    <tr>\n      <th>3</th>\n      <td>Alaska</td>\n      <td>Anchorage, AK</td>\n      <td>Yes</td>\n      <td>2016</td>\n      <td>January</td>\n      <td>3</td>\n      <td>Murder and non-negligent manslaughter</td>\n      <td>32</td>\n      <td>American Indian or Alaskan Native</td>\n      <td>33</td>\n      <td>Male</td>\n      <td>Other or type unknown</td>\n      <td>Wife</td>\n      <td>0</td>\n      <td>0</td>\n      <td>AK</td>\n      <td>63.588753</td>\n      <td>-154.493062</td>\n      <td>Alaska</td>\n    </tr>\n    <tr>\n      <th>4</th>\n      <td>Alaska</td>\n      <td>Anchorage, AK</td>\n      <td>No</td>\n      <td>2016</td>\n      <td>January</td>\n      <td>4</td>\n      <td>Murder and non-negligent manslaughter</td>\n      <td>20</td>\n      <td>Black</td>\n      <td>999</td>\n      <td>Unknown</td>\n      <td>Firearm, type not stated</td>\n      <td>Relationship not determined</td>\n      <td>1</td>\n      <td>0</td>\n      <td>AK</td>\n      <td>63.588753</td>\n      <td>-154.493062</td>\n      <td>Alaska</td>\n    </tr>\n    <tr>\n      <th>...</th>\n      <td>...</td>\n      <td>...</td>\n      <td>...</td>\n      <td>...</td>\n      <td>...</td>\n      <td>...</td>\n      <td>...</td>\n      <td>...</td>\n      <td>...</td>\n      <td>...</td>\n      <td>...</td>\n      <td>...</td>\n      <td>...</td>\n      <td>...</td>\n      <td>...</td>\n      <td>...</td>\n      <td>...</td>\n      <td>...</td>\n      <td>...</td>\n    </tr>\n    <tr>\n      <th>69523</th>\n      <td>Wyoming</td>\n      <td>Uinta, WY</td>\n      <td>No</td>\n      <td>2016</td>\n      <td>September</td>\n      <td>2</td>\n      <td>Murder and non-negligent manslaughter</td>\n      <td>52</td>\n      <td>White</td>\n      <td>999</td>\n      <td>Unknown</td>\n      <td>Knife or cutting instrument</td>\n      <td>Relationship not determined</td>\n      <td>0</td>\n      <td>0</td>\n      <td>WY</td>\n      <td>43.075968</td>\n      <td>-107.290284</td>\n      <td>Wyoming</td>\n    </tr>\n    <tr>\n      <th>69524</th>\n      <td>Wyoming</td>\n      <td>Fremont, WY</td>\n      <td>Yes</td>\n      <td>2017</td>\n      <td>July</td>\n      <td>1</td>\n      <td>Murder and non-negligent manslaughter</td>\n      <td>43</td>\n      <td>American Indian or Alaskan Native</td>\n      <td>38</td>\n      <td>Male</td>\n      <td>Knife or cutting instrument</td>\n      <td>Friend</td>\n      <td>0</td>\n      <td>0</td>\n      <td>WY</td>\n      <td>43.075968</td>\n      <td>-107.290284</td>\n      <td>Wyoming</td>\n    </tr>\n    <tr>\n      <th>69525</th>\n      <td>Wyoming</td>\n      <td>Fremont, WY</td>\n      <td>Yes</td>\n      <td>2017</td>\n      <td>November</td>\n      <td>1</td>\n      <td>Murder and non-negligent manslaughter</td>\n      <td>36</td>\n      <td>American Indian or Alaskan Native</td>\n      <td>39</td>\n      <td>Male</td>\n      <td>Blunt object - hammer, club, etc</td>\n      <td>Acquaintance</td>\n      <td>0</td>\n      <td>0</td>\n      <td>WY</td>\n      <td>43.075968</td>\n      <td>-107.290284</td>\n      <td>Wyoming</td>\n    </tr>\n    <tr>\n      <th>69526</th>\n      <td>Wyoming</td>\n      <td>Fremont, WY</td>\n      <td>No</td>\n      <td>2018</td>\n      <td>August</td>\n      <td>1</td>\n      <td>Murder and non-negligent manslaughter</td>\n      <td>29</td>\n      <td>American Indian or Alaskan Native</td>\n      <td>999</td>\n      <td>Unknown</td>\n      <td>Shotgun</td>\n      <td>Other - known to victim</td>\n      <td>0</td>\n      <td>0</td>\n      <td>WY</td>\n      <td>43.075968</td>\n      <td>-107.290284</td>\n      <td>Wyoming</td>\n    </tr>\n    <tr>\n      <th>69527</th>\n      <td>Wyoming</td>\n      <td>Fremont, WY</td>\n      <td>Yes</td>\n      <td>2019</td>\n      <td>August</td>\n      <td>1</td>\n      <td>Murder and non-negligent manslaughter</td>\n      <td>29</td>\n      <td>American Indian or Alaskan Native</td>\n      <td>30</td>\n      <td>Male</td>\n      <td>Firearm, type not stated</td>\n      <td>Acquaintance</td>\n      <td>0</td>\n      <td>0</td>\n      <td>WY</td>\n      <td>43.075968</td>\n      <td>-107.290284</td>\n      <td>Wyoming</td>\n    </tr>\n  </tbody>\n</table>\n<p>69528 rows × 19 columns</p>\n</div>"
     },
     "metadata": {},
     "execution_count": 19
    }
   ],
   "source": [
    "data = pd.read_sql('select * from \"Combined_table\"', conn)\n",
    "data"
   ]
  },
  {
   "cell_type": "code",
   "execution_count": null,
   "metadata": {},
   "outputs": [],
   "source": []
  }
 ]
}